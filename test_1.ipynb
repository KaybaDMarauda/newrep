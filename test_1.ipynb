{
 "cells": [
  {
   "cell_type": "code",
   "execution_count": null,
   "metadata": {},
   "outputs": [],
   "source": [
    "1  Prepare a presentation (group work)\n",
    "\n",
    "Prepare a presentation, 8-10 mins long.\n",
    "\n",
    "    Very briefly, demonstrate the contribution of your group members to the repository https://github.com/jdblischak/git-for-science (02-exercise-sheet.ipynb: ex. 3, Contribute to an open-source project)\n",
    "    Very briefly, demonstrate your repository with some of your scripts and cheatsheets, including the best-practices-cheatsheet in markdown format and a cheatsheet with git commands (02-exercise-sheet.ipynb: ex. 2, Create a GitHub repository for your scripts)\n",
    "    Present one of the topics below, according to your group number.\n",
    "        There isn't enough time for a comprehensive discussion of the topic, so please prepare some essential examples, which are the most interesting from your point of view. (You can use any relevant sources, not only the provided links.)\n",
    "        Prepare the presentation in a way that you don't lose time to technical problems; e.g. open all required tabs and documents in advance, and pre-configure Git to store your credentials, so you don't need to type or copy-paste them (Stackoverflow).\n",
    "        There is no requirement that every group member speaks during the presentation, but if you want, you can divide the presentation so that different group members get a chance to speak.\n",
    "        Also, create a public gist in markdown format with the most important information from your presentation, as a short summary/handout for other students.\n",
    "        The presentation may be accompanied by some questions, which all group members should be able to answer. The resulting grade is group-based, i.e. it's the same for all group members.\n"
   ]
  },
  {
   "cell_type": "markdown",
   "metadata": {},
   "source": [
    "LOCAL\n",
    "git init // create local repository - only first time\n",
    "\n",
    "git add . // . means add everything \n",
    "git commit -m \"Message for this commit\" // creates a commit with staged Files\n",
    "\n",
    "FOR REMOTE\n",
    "git remote add origin https://github.com/KaybaDMarauda/newrep.git // connects remote repo to local\n",
    "git branch -M main // name the branch main\n",
    "git push -u origin main // git push means to upload local commit to the remote repo\n",
    "\n",
    "BRANCH\n",
    "git branch dev // creates branch called dev\n",
    "git checkout dev // changes to dev(branch)\n",
    "git branch // lists all branches (current branch is marked)\n",
    "git branch -r // list all remote branches\n",
    "\n",
    "\n",
    "\n",
    "\n",
    "\n",
    "\n"
   ]
  }
 ],
 "metadata": {
  "language_info": {
   "name": "python"
  }
 },
 "nbformat": 4,
 "nbformat_minor": 2
}
